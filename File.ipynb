{
 "cells": [
  {
   "cell_type": "markdown",
   "metadata": {
    "collapsed": true
   },
   "source": [
    "Common file operation\n",
    "---------------------\n",
    " - output = open(r'C:\\spam', 'w') Create output file ('w' means write)\n",
    " - input = open('data', 'r') Create input file ('r' means read)\n",
    " - input = open('data') Same as prior line ('r' is the default)\n",
    " - aString = input.read() Read entire file into a single string\n",
    " - aString = input.read(N) Read up to next N characters (or bytes) into a string\n",
    " - aString = input.readline() Read next line (including \\n newline) into a string\n",
    " - aList = input.readlines() Read entire file into list of line strings (with \\n)\n",
    " - output.write(aString) Write a string of characters (or bytes) into file\n",
    " - output.writelines(aList) Write all line strings in a list into file\n",
    " - output.close() Manual close (done for you when file is collected)\n",
    " - output.flush() Flush output buffer to disk without closing\n",
    " - anyFile.seek(N) Change file position to offset N for next operation\n",
    " - for line in open('data'): use line File iterators read line by line\n",
    " - open('f.txt', encoding='latin-1') Python 3.0 Unicode text files (str strings)\n",
    " - open('f.bin', 'rb') Python 3.0 binary bytes files (bytes strings)"
   ]
  },
  {
   "cell_type": "markdown",
   "metadata": {},
   "source": [
    "File in Action\n",
    "--------------"
   ]
  },
  {
   "cell_type": "code",
   "execution_count": 12,
   "metadata": {},
   "outputs": [],
   "source": [
    "myfile = open('myfile.txt', 'w')\n",
    "myfile.write('hello text file\\n') # return 값으로 마지막문자 다음 index return \n",
    "myfile.write('good by text file\\n')\n",
    "myfile.close()"
   ]
  },
  {
   "cell_type": "code",
   "execution_count": 19,
   "metadata": {},
   "outputs": [
    {
     "data": {
      "text/plain": [
       "('hello text file\\n', 'good by text file\\n', '')"
      ]
     },
     "execution_count": 19,
     "metadata": {},
     "output_type": "execute_result"
    }
   ],
   "source": [
    "# readline은 한줄씩. 줄바꿈까지 포함\n",
    "myfile = open('myfile.txt') # 기본 mode는 'r'\n",
    "myfile.readline(), myfile.readline(), myfile.readline()"
   ]
  },
  {
   "cell_type": "code",
   "execution_count": 20,
   "metadata": {},
   "outputs": [
    {
     "data": {
      "text/plain": [
       "'hello text file\\ngood by text file\\n'"
      ]
     },
     "execution_count": 20,
     "metadata": {},
     "output_type": "execute_result"
    }
   ],
   "source": [
    "# file전체를 한번에 읽기 위해서 read()\n",
    "open('myfile.txt').read()"
   ]
  },
  {
   "cell_type": "code",
   "execution_count": 22,
   "metadata": {},
   "outputs": [
    {
     "name": "stdout",
     "output_type": "stream",
     "text": [
      "hello text file\ngood by text file\n"
     ]
    }
   ],
   "source": [
    "# 일반적인 파일 오픈 후 사용방법\n",
    "for line in open('myfile.txt'):\n",
    "    print(line, end='')"
   ]
  },
  {
   "cell_type": "markdown",
   "metadata": {},
   "source": [
    "Object Native 저장/읽기\n",
    "----------------------"
   ]
  },
  {
   "cell_type": "code",
   "execution_count": 26,
   "metadata": {},
   "outputs": [],
   "source": [
    "# object native 저장\n",
    "import pickle\n",
    "\n",
    "datafile = open('datafile.dat', 'wb')\n",
    "D1 = {'a': 1, 'b': 1}\n",
    "D2 = {'a': 2, 'b': 2}\n",
    "pickle.dump(D1, datafile)\n",
    "pickle.dump(D2, datafile)\n"
   ]
  },
  {
   "cell_type": "code",
   "execution_count": 29,
   "metadata": {},
   "outputs": [
    {
     "data": {
      "text/plain": [
       "({'a': 1, 'b': 1}, {'a': 2, 'b': 2})"
      ]
     },
     "execution_count": 29,
     "metadata": {},
     "output_type": "execute_result"
    }
   ],
   "source": [
    "# object native 읽기\n",
    "datafile = open('datafile.dat', 'rb')\n",
    "pickle.load(datafile), pickle.load(datafile)"
   ]
  },
  {
   "cell_type": "markdown",
   "metadata": {},
   "source": [
    "File context manager\n",
    "--------------------"
   ]
  },
  {
   "cell_type": "code",
   "execution_count": 35,
   "metadata": {},
   "outputs": [
    {
     "name": "stdout",
     "output_type": "stream",
     "text": [
      "hello text file\ngood by text file\n"
     ]
    }
   ],
   "source": [
    "# file open and auto close\n",
    "with open('myfile.txt') as myfile:\n",
    "    for line in myfile:\n",
    "        print(line, end='')"
   ]
  }
 ],
 "metadata": {
  "kernelspec": {
   "display_name": "Python 2",
   "language": "python",
   "name": "python2"
  },
  "language_info": {
   "codemirror_mode": {
    "name": "ipython",
    "version": 2
   },
   "file_extension": ".py",
   "mimetype": "text/x-python",
   "name": "python",
   "nbconvert_exporter": "python",
   "pygments_lexer": "ipython2",
   "version": "2.7.6"
  }
 },
 "nbformat": 4,
 "nbformat_minor": 0
}
