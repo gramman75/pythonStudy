{
 "cells": [
  {
   "cell_type": "markdown",
   "metadata": {
    "collapsed": true
   },
   "source": [
    "While\n",
    "-----"
   ]
  },
  {
   "cell_type": "code",
   "execution_count": null,
   "metadata": {},
   "outputs": [],
   "source": [
    "while True:\n",
    "    if True : break # Exit loop now, skip else\n",
    "    if False : continue # Go to top of loop now, to test1\n",
    "else:\n",
    "    pass"
   ]
  },
  {
   "cell_type": "markdown",
   "metadata": {},
   "source": [
    "for loop\n",
    "--------"
   ]
  },
  {
   "cell_type": "code",
   "execution_count": 13,
   "metadata": {},
   "outputs": [
    {
     "name": "stdout",
     "output_type": "stream",
     "text": [
      "s p a m "
     ]
    }
   ],
   "source": [
    "#String loop\n",
    "for c in 'spam':\n",
    "    print(c, end =' ')"
   ]
  },
  {
   "cell_type": "code",
   "execution_count": 1,
   "metadata": {},
   "outputs": [
    {
     "name": "stdout",
     "output_type": "stream",
     "text": [
      "a b c "
     ]
    }
   ],
   "source": [
    "# List loop\n",
    "for x in ['a', 'b', 'c']:\n",
    "    print(x, end=' ')"
   ]
  },
  {
   "cell_type": "code",
   "execution_count": 5,
   "metadata": {},
   "outputs": [
    {
     "name": "stdout",
     "output_type": "stream",
     "text": [
      "1 2\n3 4\n5 6\n"
     ]
    }
   ],
   "source": [
    "# tuple loop\n",
    "for (x, y) in [(1,2), (3,4), (5, 6)]:\n",
    "    print(x , y)"
   ]
  },
  {
   "cell_type": "code",
   "execution_count": 8,
   "metadata": {},
   "outputs": [
    {
     "name": "stdout",
     "output_type": "stream",
     "text": [
      "a 1\nb 2\nc 3\n"
     ]
    }
   ],
   "source": [
    "# dictionary loop\n",
    "D = dict(a = 1, b = 2, c = 3)\n",
    "for k in D:\n",
    "    print (k, D.get(k))"
   ]
  },
  {
   "cell_type": "markdown",
   "metadata": {},
   "source": [
    "Usage\n",
    "------"
   ]
  },
  {
   "cell_type": "code",
   "execution_count": 14,
   "metadata": {},
   "outputs": [
    {
     "name": "stdout",
     "output_type": "stream",
     "text": [
      "-5 -4 -3 -2 -1 0 1 2 3 4 "
     ]
    }
   ],
   "source": [
    "#counter loop\n",
    "for i in range(-5, 5): print(i, end=' ')"
   ]
  },
  {
   "cell_type": "code",
   "execution_count": 15,
   "metadata": {},
   "outputs": [
    {
     "name": "stdout",
     "output_type": "stream",
     "text": [
      "0 => a\n1 => b\n2 => c\n"
     ]
    }
   ],
   "source": [
    "#offset and item Loop\n",
    "L = ['a', 'b', 'c']\n",
    "\n",
    "for index, value in enumerate(L) : print (index, '=>', value)"
   ]
  },
  {
   "cell_type": "code",
   "execution_count": 16,
   "metadata": {},
   "outputs": [
    {
     "name": "stdout",
     "output_type": "stream",
     "text": [
      "a c e g "
     ]
    }
   ],
   "source": [
    "#짝수자리 문자 출력1\n",
    "S = 'abcdefgh'\n",
    "for i in range(0, len(S), 2):\n",
    "    print(S[i], end=' ')"
   ]
  },
  {
   "cell_type": "code",
   "execution_count": 17,
   "metadata": {},
   "outputs": [
    {
     "name": "stdout",
     "output_type": "stream",
     "text": [
      "a c e g "
     ]
    }
   ],
   "source": [
    "#짝수자리 문자 출력2\n",
    "S = 'abcdefgh'\n",
    "for s in S[::2] : print(s, end=' ')"
   ]
  },
  {
   "cell_type": "code",
   "execution_count": 20,
   "metadata": {},
   "outputs": [
    {
     "name": "stdout",
     "output_type": "stream",
     "text": [
      "a 1\nb 2\nc 3\nd 4\n"
     ]
    }
   ],
   "source": [
    "#parallel \n",
    "L1 = ['a', 'b', 'c', 'd']\n",
    "L2 = [ 1, 2, 3, 4]\n",
    "for (a, b) in zip(L1, L2) : print(a, b)"
   ]
  }
 ],
 "metadata": {
  "kernelspec": {
   "display_name": "Python 2",
   "language": "python",
   "name": "python2"
  },
  "language_info": {
   "codemirror_mode": {
    "name": "ipython",
    "version": 2
   },
   "file_extension": ".py",
   "mimetype": "text/x-python",
   "name": "python",
   "nbconvert_exporter": "python",
   "pygments_lexer": "ipython2",
   "version": "2.7.6"
  }
 },
 "nbformat": 4,
 "nbformat_minor": 0
}
